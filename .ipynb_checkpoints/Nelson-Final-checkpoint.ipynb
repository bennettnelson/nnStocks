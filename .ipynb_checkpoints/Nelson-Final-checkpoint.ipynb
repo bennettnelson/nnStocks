{
 "cells": [
  {
   "cell_type": "markdown",
   "metadata": {},
   "source": [
    "# Stock Prediction with Neural Networks\n",
    "**Bennett Nelson - CS440 Final Project**"
   ]
  },
  {
   "cell_type": "markdown",
   "metadata": {},
   "source": [
    "## Introduction\n",
    "Although I have enjoyed learning about many topics from the realm of AI over the course of the semester, neural networks caught my attention most prominently. This is in large part due to the many useful applications for this technology that come to my mind. However, neural networks have been, admittedly, the most difficult concept for me to grasp out of the various algorithms that were covered throughout the semester. From my perspective, this project seems like a great opportunity for me to challenge myself and solidify my understanding of neural networks, which will hopefully allow me to use them to greater effect in the future.\n",
    "\n",
    "In order to explore both the creation and capabilities of neural networks to a greater extent, I have decided to use them in a rather largescale problem: Stock Price Prediction. I believe that this problem will serve as a detailed look at the strengths and limitations of regression neural networks as well as a useful comparison between the accuracies and efficiencies of various network complexities and optimization algorithms for those networks. Due to the scale of the stock prediction problem, there will be many datasets available given the amount of stocks in the market, and there will plenty of variability between these datasets to analyze. For example, differences in industry or even the resolution of time when data is collected in a set can be tested. Overall, the main goal in working with this problem is to explore key variables in neural networks such as optimization algorithms, hidden layer complexities, network sizes, and sizes of training datasets in order to predict something as complex as a stock price with as much accuracy as possible."
   ]
  },
  {
   "cell_type": "markdown",
   "metadata": {},
   "source": [
    "## Gathering Data\n",
    "Before any neural networks can be compared, used, or even trained, an efficient method of gathering historical stock price and indicator data must be found. Originally, I had planned on using data from a popular investment research organization known as Morningstar. Their website includes charting tools which also allow for the exporting of a stock's closing prices over a given amount of time in CSV format. While this information would certainly be helpful, it is not enough for my purposes, and the export process is more tedious than I would have liked. Therefore, I began searching for another solution, which I found in a free-to-use stock API called Alpha Vantage.\n",
    "\n",
    "WRITE MORE HERE ABOUT THE OFFERINGS OF ALPHA VANTAGE LIKE TIME RESOLUTION, TECHNICAL INDICATORS, OPEN, CLOSE, VOLUME ETC AND HOW IT WORKS"
   ]
  },
  {
   "cell_type": "code",
   "execution_count": null,
   "metadata": {},
   "outputs": [],
   "source": []
  }
 ],
 "metadata": {
  "kernelspec": {
   "display_name": "Python 3",
   "language": "python",
   "name": "python3"
  },
  "language_info": {
   "codemirror_mode": {
    "name": "ipython",
    "version": 3
   },
   "file_extension": ".py",
   "mimetype": "text/x-python",
   "name": "python",
   "nbconvert_exporter": "python",
   "pygments_lexer": "ipython3",
   "version": "3.6.5"
  }
 },
 "nbformat": 4,
 "nbformat_minor": 2
}
