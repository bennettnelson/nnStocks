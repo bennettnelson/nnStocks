{
 "cells": [
  {
   "cell_type": "markdown",
   "metadata": {},
   "source": [
    "$\\newcommand{\\xv}{\\mathbf{x}}\n",
    "\\newcommand{\\Xv}{\\mathbf{X}}\n",
    "\\newcommand{\\yv}{\\mathbf{y}}\n",
    "\\newcommand{\\zv}{\\mathbf{z}}\n",
    "\\newcommand{\\av}{\\mathbf{a}}\n",
    "\\newcommand{\\Wv}{\\mathbf{W}}\n",
    "\\newcommand{\\wv}{\\mathbf{w}}\n",
    "\\newcommand{\\tv}{\\mathbf{t}}\n",
    "\\newcommand{\\Tv}{\\mathbf{T}}\n",
    "\\newcommand{\\muv}{\\boldsymbol{\\mu}}\n",
    "\\newcommand{\\sigmav}{\\boldsymbol{\\sigma}}\n",
    "\\newcommand{\\phiv}{\\boldsymbol{\\phi}}\n",
    "\\newcommand{\\Phiv}{\\boldsymbol{\\Phi}}\n",
    "\\newcommand{\\Sigmav}{\\boldsymbol{\\Sigma}}\n",
    "\\newcommand{\\Lambdav}{\\boldsymbol{\\Lambda}}\n",
    "\\newcommand{\\half}{\\frac{1}{2}}\n",
    "\\newcommand{\\argmax}[1]{\\underset{#1}{\\operatorname{argmax}}}\n",
    "\\newcommand{\\argmin}[1]{\\underset{#1}{\\operatorname{argmin}}}$"
   ]
  },
  {
   "cell_type": "markdown",
   "metadata": {},
   "source": [
    "# Project Proposal"
   ]
  },
  {
   "cell_type": "markdown",
   "metadata": {},
   "source": [
    "**Bennett Nelson**"
   ]
  },
  {
   "cell_type": "markdown",
   "metadata": {},
   "source": [
    "## Introduction"
   ]
  },
  {
   "cell_type": "markdown",
   "metadata": {},
   "source": [
    "Summarize the following:\n",
    "\n",
    "  * the AI problem you will address, any code you will borrow or write, data that you will use, and the questions about the problem you will try to answer,\n",
    "  * the AI algorithms you will use and how they will be applied to answer your questions,\n",
    "  * questions about the algorithm you will try to answer,\n",
    "  * why you are interested in the AI algorithm,\n",
    "  * members of your team, if more than just you.\n",
    "---\n",
    "For my final project, I plan to create a program that predicts future stock price behavior given current and past available data about a given stock. I am planning to test this program with stocks for several companies with varying sizes and volatilities, and I will compare prediction performance between them. To accomplish this task, I will write code to extract stock attributes (such as trading volume, previous close prices, and various indicators for a given date/time) as inputs and stock prices as outputs for a regression neural network. This data will be exported from the charting tools of the well-known and reliable financial research organization, Morningstar Inc. The neural networks I will work with will be implemented using the Pytorch deep learning platform, and I will experiment with different optimization algorithms and their performances.\n",
    "\n",
    "I will be trying to determine if a regression neural network can be used to accurately predict future stock prices given that stock's past performance. This will be done by training the neural network on data for various lengths of time in the market (for example, months, weeks, days, or hours) from the past. I will then test the network with new data and compare its predictions to the actual behavior of the stock's price. Regarding the regression neural networks themselves, I will attempt to discover how complex of a network structure it may take to reasonably estimate such a large dataset, and I will work to increase my knowledge of the advantages and drawbacks of several popular optimization algorithms for neural networks.\n",
    "\n",
    "I have chosen a project involving neural networks as they have greatly interested me since I first heard about them, and I have seen many projects which use them to great effect. However, of the algorithms that we have looked at this semester, neural networks seem to be the one that I have had the hardest time getting my head around. I would like to challenge myself to apply neural networks to a sizeable dataset in order to increase my understanding of them."
   ]
  },
  {
   "cell_type": "markdown",
   "metadata": {},
   "source": [
    "## Methods"
   ]
  },
  {
   "cell_type": "markdown",
   "metadata": {},
   "source": [
    "Describe the methods you will use.  What are the sources of code or data?  Will you define new algorithms and/or implementations, or use ones from class, or download ones from an on-line source?\n",
    "\n",
    "If you will be working with others, define exactly what each team member will be working on.\n",
    "***\n",
    "The first thing I will need is a way to collect data about a given stock to be used in my neural networks. I will download this data in CSV format from a reputable investment research group such as Morningstar Inc. With this datafile, I will then use code that I write myself to extract the data into input and output structures for use in neural networks.\n",
    "\n",
    "The neural networks themselves will come from a variety of sources. I plan on using Pytorch in order to easily run many of my networks on the GPU for performance speedups, but I will also compare some optimization algorithms in Pytorch to the Scaled Conjugate Gradient algorithm that we used in class to demonstrate differences in their efficiency and prediction performance. I will be using matplotlib's pyplot in order to visually display my networks' predictions versus the actual data."
   ]
  },
  {
   "cell_type": "markdown",
   "metadata": {},
   "source": [
    "## Possible Results\n",
    "\n",
    "Speculate on possible answers to the questions you provide in the Introduction.\n",
    "***\n",
    "My prediction is that my neural networks will give a decent general idea about the direction a stock's price may move, but it will not be accurate enough to be used for making precise trades. This is because there can be unexpected events for a company (such as reporting surprisingly poor/good earnings) that a neural network may not be able to account for. Also, the network will be predicting future outputs based on past inputs, and depending on the gap of time between these two, the RMSE could be fairly large.\n",
    "\n",
    "However, I think that after some testing, I will be able to determine what scale and layout for a neural network's hidden structure would be best for approximating a stock's price over a given amount of time. I am also confident that I will gain a greater understanding of the various optimization algorithms available to be used in neural networks."
   ]
  },
  {
   "cell_type": "markdown",
   "metadata": {},
   "source": [
    "## Timeline\n",
    "\n",
    "Make a list with at least four entries with dates and describe what each team member will accomplish by these dates.  This is for your use.  Your grade will not depend on meeting these deadlines.\n",
    "***\n",
    "Since I am working alone, I will accomplish each task by the given date.\n",
    "\n",
    "| Date | Task to Complete |\n",
    "|------|------------------|\n",
    "| 11/13 | Complete research for most useful stock performance metrics and technical indicators to determine best inputs |\n",
    "| 11/20 | Complete code to automatically download, organize, and format stock data given stock's ticker symbol |\n",
    "| 11/20 | Complete neural network functions using Pytorch and in-class code with options for using various optimization algorithms |\n",
    "| 12/4 | Complete testing of various network structures/sizes, optimization algorithms, iterations, input data, training times, etc\n",
    "| 12/11 | Turn in completed notebook with full documentation, plots, images, data examples, and code |"
   ]
  },
  {
   "cell_type": "markdown",
   "metadata": {},
   "source": [
    "## Check-in"
   ]
  },
  {
   "cell_type": "markdown",
   "metadata": {},
   "source": [
    "Do not include this section in your notebook.\n",
    "\n",
    "Name your notebook ```Lastname-proposal.ipynb```.  So, for me it would be ```Anderson-Proposal.ipynb```.  Submit the file using the ```Project Proposal``` link on [Canvas](https://colostate.instructure.com/courses/55296).\n",
    "\n",
    "Grading will be based on \n",
    "\n",
    "  * clarity of describing your motivation and methods,\n",
    "  * division of work among team members, if applicable.\n",
    "  \n",
    "If the instructor may ask you to expand your project and resubmit your proposal."
   ]
  }
 ],
 "metadata": {
  "kernelspec": {
   "display_name": "Python 3",
   "language": "python",
   "name": "python3"
  },
  "language_info": {
   "codemirror_mode": {
    "name": "ipython",
    "version": 3
   },
   "file_extension": ".py",
   "mimetype": "text/x-python",
   "name": "python",
   "nbconvert_exporter": "python",
   "pygments_lexer": "ipython3",
   "version": "3.6.5"
  }
 },
 "nbformat": 4,
 "nbformat_minor": 1
}
