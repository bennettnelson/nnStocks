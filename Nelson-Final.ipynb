{
 "cells": [
  {
   "cell_type": "markdown",
   "metadata": {},
   "source": [
    "# Stock Prediction with Neural Networks\n",
    "**Bennett Nelson - CS440 Final Project**"
   ]
  },
  {
   "cell_type": "markdown",
   "metadata": {},
   "source": [
    "## Introduction\n",
    "Although I have enjoyed learning about many topics from the realm of AI over the course of the semester, neural networks caught my attention most prominently. This is in large part due to the many useful applications for this technology that come to my mind. However, neural networks have been, admittedly, the most difficult concept for me to grasp out of the various algorithms that were covered throughout the semester. From my perspective, this project seems like a great opportunity for me to challenge myself and solidify my understanding of neural networks, which will hopefully allow me to use them to greater effect in the future.\n",
    "\n",
    "In order to explore both the creation and capabilities of neural networks to a greater extent, I have decided to use them in a rather largescale problem: Stock Price Prediction. I believe that this problem will serve as a detailed look at the strengths and limitations of regression neural networks as well as a useful comparison between the accuracies and efficiencies of various network complexities and optimization algorithms for those networks. Due to the scale of the stock prediction problem, there will be many datasets available given the amount of stocks in the market, and there will plenty of variability between these datasets to analyze. For example, differences in industry or even the resolution of time when data is collected in a set can be tested. Overall, the main goal in working with this problem is to explore key variables in neural networks such as optimization algorithms, hidden layer complexities, network sizes, and sizes of training datasets in order to predict something as complex as a stock price with as much accuracy as possible."
   ]
  },
  {
   "cell_type": "markdown",
   "metadata": {},
   "source": [
    "## Gathering Data\n",
    "Before any neural networks can be compared, used, or even trained, an efficient method of gathering historical stock price and indicator data must be found. Originally, I had planned on using data from a popular investment research organization known as Morningstar. Their website includes charting tools which also allow for the exporting of a stock's closing prices over a given amount of time in CSV format. While this information would certainly be helpful, it is not enough for my purposes, and the export process is more tedious than I would have liked. Therefore, I began searching for another solution, which I found in a free-to-use stock API called Alpha Vantage.\n",
    "\n",
    "Using Alpha Vantage provides very quick and easy access to a variety of statistics about any given stock. For example, a stock's open, high, low, and close prices, as well as trading volume, can be rapidly collected into a CSV file with the option of selecting a time interval for how often (or how many) data points are gathered for that stock. Data can be taken as specifically as 1 minute per update or as broadly as 1 month per update. This will allow me to have great control over what is included in each dataset for a stock. In addition to data about a stock's price and trading volume, Alpha Vantage also provides access to popular technical indicators used by traders to predict the direction a stock will move.\n",
    "\n",
    "\n",
    "### Technical Indicators\n",
    "In the investment world, technical analysis is a method of trading which involves the careful studying of price and volume as well as a great variety of models, known as technical indicators, based on the behaviors of these statistics. Although there are seemingly endless indicators to choose from, I have decided to focus on 5 of the most widely-used as they are simple yet have the potential to be greatly effective. The datasets for the stocks tested will include the following indicators:\n",
    "\n",
    "- **Relative Strength Index (RSI):** Using closing prices for a recent trading period, the RSI is used to determine past and present strength or weakness for a stock.\n",
    "\n",
    "- **Moving Average Convergence Divergence (MACD):** In order to detect potential changes in a stock's strength or direction, the MACD indicator uses two exponential moving averages (a short-term average and a long-term average). Crossovers, divergences, and the overall positions of these two averages relative to each other can be used as signals for a stock's behavior.\n",
    "\n",
    "- **Bollinger Bands:** A simple moving average is calculated from recent stock price data as well as two standard deviations above and below this average. The position of the stock's price within this range of standard deviations as well as the sizes of the standard deviations themselves can indicate overbought or oversold conditions.\n",
    "\n",
    "- **Stochastic Oscillator:** To predict a stock's momentum, this indicator compares the stock's closing price to the range of its prices over a period of time. Its sensitivity can be manipulated by changing the length of this period of time. It is often used in many of the same ways as the RSI.\n",
    "\n",
    "- **Commodity Channel Index (CCI):** The CCI can be used to detect patterns in a stock's behavior as well as to indicate overbought or oversold conditions. This is accomplished by finding the difference between the price of the stock and a moving average and dividing this difference by 1.5% of a normal deviation from that average.\n",
    "\n",
    "\n",
    "### Simplifying Data Collection\n",
    "Because I will want to use my neural networks with a variety of different stocks over several different time periods, I will use some python code to accomplish making the API calls and compiling one CSV datafile from the several files that the API returns. Then, I will be ready to start constructing my neural networks."
   ]
  },
  {
   "cell_type": "code",
   "execution_count": 4,
   "metadata": {},
   "outputs": [],
   "source": [
    "import urllib.request\n",
    "import os\n",
    "from time import sleep\n",
    "import csv"
   ]
  },
  {
   "cell_type": "code",
   "execution_count": 12,
   "metadata": {},
   "outputs": [],
   "source": [
    "def createStockCSV(fileName, stockSymbol, timeSeries, futureDataPoints, timeInterval=\"1min\"):\n",
    "    if (not os.path.exists(\"./\" + fileName)):\n",
    "        stockSymbol = stockSymbol.upper()\n",
    "        timeSeries = timeSeries.upper()\n",
    "        timeInterval = timeInterval.lower()\n",
    "\n",
    "        priceURL = \"https://www.alphavantage.co/query?function=TIME_SERIES_\" + timeSeries + \"&symbol=\" +\\\n",
    "        stockSymbol + \"&apikey=DJ74AP0344E00KXN&datatype=csv&outputsize=full\"\n",
    "        if (timeSeries == \"INTRADAY\"):\n",
    "            priceURL = priceURL + \"&interval=\" + timeInterval\n",
    "        urllib.request.urlretrieve(priceURL, \"./priceData.csv\")\n",
    "\n",
    "        rsiURL = \"https://www.alphavantage.co/query?function=RSI&symbol=\" + stockSymbol + \"&interval=\" +\\\n",
    "        (timeInterval if (timeSeries == \"INTRADAY\") else timeSeries.lower()) +\\\n",
    "        \"&time_period=10&series_type=close&apikey=DJ74AP0344E00KXN&datatype=csv\"\n",
    "        urllib.request.urlretrieve(rsiURL, \"./rsiData.csv\")\n",
    "\n",
    "        macdURL = \"https://www.alphavantage.co/query?function=MACD&symbol=\" + stockSymbol + \"&interval=\" +\\\n",
    "        (timeInterval if (timeSeries == \"INTRADAY\") else timeSeries.lower()) +\\\n",
    "        \"&series_type=close&apikey=DJ74AP0344E00KXN&datatype=csv\"\n",
    "        urllib.request.urlretrieve(macdURL, \"./macdData.csv\")\n",
    "\n",
    "        bandsURL = \"https://www.alphavantage.co/query?function=BBANDS&symbol=\" + stockSymbol + \"&interval=\" +\\\n",
    "        (timeInterval if (timeSeries == \"INTRADAY\") else timeSeries.lower()) +\\\n",
    "        \"&time_period=5&series_type=close&apikey=DJ74AP0344E00KXN&datatype=csv\"\n",
    "        urllib.request.urlretrieve(bandsURL, \"./bandsData.csv\")\n",
    "\n",
    "        sleep(60) # Must wait 1 minute as free version of API only allows 5 calls per minute\n",
    "\n",
    "        stochURL = \"https://www.alphavantage.co/query?function=STOCH&symbol=\" + stockSymbol + \"&interval=\" +\\\n",
    "        (timeInterval if (timeSeries == \"INTRADAY\") else timeSeries.lower()) +\\\n",
    "        \"&apikey=DJ74AP0344E00KXN&datatype=csv\"\n",
    "        urllib.request.urlretrieve(stochURL, \"./stochData.csv\")\n",
    "\n",
    "        cciURL = \"https://www.alphavantage.co/query?function=CCI&symbol=\" + stockSymbol + \"&interval=\" +\\\n",
    "        (timeInterval if (timeSeries == \"INTRADAY\") else timeSeries.lower()) +\\\n",
    "        \"&time_period=10&apikey=DJ74AP0344E00KXN&datatype=csv\"\n",
    "        urllib.request.urlretrieve(cciURL, \"./cciData.csv\")\n",
    "\n",
    "        fileList = [\"./priceData.csv\", \"./rsiData.csv\", \"./macdData.csv\", \"./bandsData.csv\", \"./stochData.csv\", \"./cciData.csv\"]\n",
    "        concatCSV(fileName, fileList)\n",
    "\n",
    "        createFutureColumn(fileName, futureDataPoints)\n",
    "\n",
    "        for file in fileList:\n",
    "            os.remove(file)"
   ]
  },
  {
   "cell_type": "code",
   "execution_count": 13,
   "metadata": {},
   "outputs": [],
   "source": [
    "import csv\n",
    "def concatCSV(finalName, fileList):\n",
    "    csvList = []\n",
    "    for file in fileList:\n",
    "        csvList.append(list(csv.reader(open(file, \"r\"))))\n",
    "\n",
    "    for i in range(1, len(csvList)):\n",
    "        for j in range(len(csvList[i])):\n",
    "            csvList[i][j] = csvList[i][j][1:]\n",
    "    \n",
    "    finalCSV = csvList[0]\n",
    "    for i in range(1, len(csvList)):\n",
    "        finalCSV = [line1 + line2 for (line1, line2) in zip(finalCSV, csvList[i])]\n",
    "    \n",
    "    fileWriter = csv.writer(open(\"./\" + finalName, \"w\"))\n",
    "    fileWriter.writerows(finalCSV)"
   ]
  },
  {
   "cell_type": "code",
   "execution_count": 14,
   "metadata": {},
   "outputs": [],
   "source": [
    "def createFutureColumn(dataFile, dataPointsAhead):\n",
    "    data = list(csv.reader(open(dataFile, \"r\")))\n",
    "    data[0].append(\"Future_Date\")\n",
    "    data[0].append(\"Future_Price\")\n",
    "    for i in range(len(data) - 1, dataPointsAhead, -1):\n",
    "        data[i].append(data[i - dataPointsAhead][0])\n",
    "        data[i].append(data[i - dataPointsAhead][4])\n",
    "    \n",
    "    fileWriter = csv.writer(open(\"./\" + dataFile, \"w\"))\n",
    "    fileWriter.writerow(data[0])\n",
    "    for i in range(1, len(data)):\n",
    "        if (len(data[i]) == len(data[len(data) - 1])):\n",
    "            fileWriter.writerow(data[i])"
   ]
  },
  {
   "cell_type": "code",
   "execution_count": 15,
   "metadata": {},
   "outputs": [],
   "source": [
    "createStockCSV(\"SBUX_daily_data.csv\", \"SBUX\", \"daily\", 30)"
   ]
  },
  {
   "cell_type": "markdown",
   "metadata": {},
   "source": [
    "## *Resources*\n",
    "\\[1\\] https://investopedia.com/  \n",
    "\\[2\\] https://stackabuse.com/download-files-with-python/"
   ]
  },
  {
   "cell_type": "code",
   "execution_count": null,
   "metadata": {},
   "outputs": [],
   "source": []
  }
 ],
 "metadata": {
  "kernelspec": {
   "display_name": "Python 3",
   "language": "python",
   "name": "python3"
  },
  "language_info": {
   "codemirror_mode": {
    "name": "ipython",
    "version": 3
   },
   "file_extension": ".py",
   "mimetype": "text/x-python",
   "name": "python",
   "nbconvert_exporter": "python",
   "pygments_lexer": "ipython3",
   "version": "3.6.5"
  }
 },
 "nbformat": 4,
 "nbformat_minor": 2
}
